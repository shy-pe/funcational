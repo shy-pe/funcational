{
  "nbformat": 4,
  "nbformat_minor": 0,
  "metadata": {
    "colab": {
      "provenance": [],
      "authorship_tag": "ABX9TyNdWp4VPsOYo28fQHGv93dD",
      "include_colab_link": true
    },
    "kernelspec": {
      "name": "python3",
      "display_name": "Python 3"
    },
    "language_info": {
      "name": "python"
    }
  },
  "cells": [
    {
      "cell_type": "markdown",
      "metadata": {
        "id": "view-in-github",
        "colab_type": "text"
      },
      "source": [
        "<a href=\"https://colab.research.google.com/github/shy-pe/funcational/blob/master/daegi_jungu_public_data_ipynb%EC%9D%98_%EC%82%AC%EB%B3%B8%EC%9D%98_%EC%82%AC%EB%B3%B8.ipynb\" target=\"_parent\"><img src=\"https://colab.research.google.com/assets/colab-badge.svg\" alt=\"Open In Colab\"/></a>"
      ]
    },
    {
      "cell_type": "code",
      "execution_count": null,
      "metadata": {
        "colab": {
          "base_uri": "https://localhost:8080/"
        },
        "id": "MLy1hYSp_9_A",
        "outputId": "9464f709-6ecd-45d2-e900-e3581bec2931"
      },
      "outputs": [
        {
          "output_type": "stream",
          "name": "stdout",
          "text": [
            "데이터가 'daegu_junggu_public_data_all_pages.xlsx'로 저장되었습니다.\n"
          ]
        }
      ],
      "source": [
        "import requests\n",
        "from bs4 import BeautifulSoup\n",
        "import pandas as pd\n",
        "\n",
        "# 대구시 중구 URL 목록 (활용많은순+40개씩)\n",
        "urls = [\n",
        "    \"https://www.data.go.kr/tcs/dss/selectDataSetList.do?dType=FILE&keyword=&operator=&detailKeyword=&publicDataPk=&recmSe=&detailText=&relatedKeyword=&commaNotInData=&commaAndData=&commaOrData=&must_not=&tabId=&dataSetCoreTf=&coreDataNm=&sort=reqCo&relRadio=&orgFullName=%EB%8C%80%EA%B5%AC%EA%B4%91%EC%97%AD%EC%8B%9C+%EC%A4%91%EA%B5%AC&orgFilter=%EB%8C%80%EA%B5%AC%EA%B4%91%EC%97%AD%EC%8B%9C+%EC%A4%91%EA%B5%AC&org=%EB%8C%80%EA%B5%AC%EA%B4%91%EC%97%AD%EC%8B%9C+%EC%A4%91%EA%B5%AC&orgSearch=&currentPage=1&perPage=40&brm=&instt=&svcType=&kwrdArray=&extsn=&coreDataNmArray=&pblonsipScopeCode=\",\n",
        "    \"https://www.data.go.kr/tcs/dss/selectDataSetList.do?dType=FILE&keyword=&operator=&detailKeyword=&publicDataPk=&recmSe=&detailText=&relatedKeyword=&commaNotInData=&commaAndData=&commaOrData=&must_not=&tabId=&dataSetCoreTf=&coreDataNm=&sort=reqCo&relRadio=&orgFullName=%EB%8C%80%EA%B5%AC%EA%B4%91%EC%97%AD%EC%8B%9C+%EC%A4%91%EA%B5%AC&orgFilter=%EB%8C%80%EA%B5%AC%EA%B4%91%EC%97%AD%EC%8B%9C+%EC%A4%91%EA%B5%AC&org=%EB%8C%80%EA%B5%AC%EA%B4%91%EC%97%AD%EC%8B%9C+%EC%A4%91%EA%B5%AC&orgSearch=&currentPage=2&perPage=40&brm=&instt=&svcType=&kwrdArray=&extsn=&coreDataNmArray=&pblonsipScopeCode=\",\n",
        "    \"https://www.data.go.kr/tcs/dss/selectDataSetList.do?dType=FILE&keyword=&operator=&detailKeyword=&publicDataPk=&recmSe=&detailText=&relatedKeyword=&commaNotInData=&commaAndData=&commaOrData=&must_not=&tabId=&dataSetCoreTf=&coreDataNm=&sort=reqCo&relRadio=&orgFullName=%EB%8C%80%EA%B5%AC%EA%B4%91%EC%97%AD%EC%8B%9C+%EC%A4%91%EA%B5%AC&orgFilter=%EB%8C%80%EA%B5%AC%EA%B4%91%EC%97%AD%EC%8B%9C+%EC%A4%91%EA%B5%AC&org=%EB%8C%80%EA%B5%AC%EA%B4%91%EC%97%AD%EC%8B%9C+%EC%A4%91%EA%B5%AC&orgSearch=&currentPage=3&perPage=40&brm=&instt=&svcType=&kwrdArray=&extsn=&coreDataNmArray=&pblonsipScopeCode=\"\n",
        "]\n",
        "file_path = \"daegu_junggu_public_data_all_pages.xlsx\"\n",
        "\n",
        "# 대구시 남구 URL 목록 (활용많은순+40개씩)\n",
        "#urls = [\n",
        "#    \"https://www.data.go.kr/tcs/dss/selectDataSetList.do?dType=FILE&keyword=&operator=&detailKeyword=&publicDataPk=&recmSe=&detailText=&relatedKeyword=&commaNotInData=&commaAndData=&commaOrData=&must_not=&tabId=&dataSetCoreTf=&coreDataNm=&sort=reqCo&relRadio=&orgFullName=%EB%8C%80%EA%B5%AC%EA%B4%91%EC%97%AD%EC%8B%9C+%EB%82%A8%EA%B5%AC&orgFilter=%EB%8C%80%EA%B5%AC%EA%B4%91%EC%97%AD%EC%8B%9C+%EB%82%A8%EA%B5%AC&org=%EB%8C%80%EA%B5%AC%EA%B4%91%EC%97%AD%EC%8B%9C+%EB%82%A8%EA%B5%AC&orgSearch=&currentPage=1&perPage=40&brm=&instt=&svcType=&kwrdArray=&extsn=&coreDataNmArray=&pblonsipScopeCode=\",\n",
        "#    \"https://www.data.go.kr/tcs/dss/selectDataSetList.do?dType=FILE&keyword=&operator=&detailKeyword=&publicDataPk=&recmSe=&detailText=&relatedKeyword=&commaNotInData=&commaAndData=&commaOrData=&must_not=&tabId=&dataSetCoreTf=&coreDataNm=&sort=reqCo&relRadio=&orgFullName=%EB%8C%80%EA%B5%AC%EA%B4%91%EC%97%AD%EC%8B%9C+%EB%82%A8%EA%B5%AC&orgFilter=%EB%8C%80%EA%B5%AC%EA%B4%91%EC%97%AD%EC%8B%9C+%EB%82%A8%EA%B5%AC&org=%EB%8C%80%EA%B5%AC%EA%B4%91%EC%97%AD%EC%8B%9C+%EB%82%A8%EA%B5%AC&orgSearch=&currentPage=1&perPage=40&brm=&instt=&svcType=&kwrdArray=&extsn=&coreDataNmArray=&pblonsipScopeCode=\",\n",
        "#    \"https://www.data.go.kr/tcs/dss/selectDataSetList.do?dType=FILE&keyword=&operator=&detailKeyword=&publicDataPk=&recmSe=&detailText=&relatedKeyword=&commaNotInData=&commaAndData=&commaOrData=&must_not=&tabId=&dataSetCoreTf=&coreDataNm=&sort=reqCo&relRadio=&orgFullName=%EB%8C%80%EA%B5%AC%EA%B4%91%EC%97%AD%EC%8B%9C+%EB%82%A8%EA%B5%AC&orgFilter=%EB%8C%80%EA%B5%AC%EA%B4%91%EC%97%AD%EC%8B%9C+%EB%82%A8%EA%B5%AC&org=%EB%8C%80%EA%B5%AC%EA%B4%91%EC%97%AD%EC%8B%9C+%EB%82%A8%EA%B5%AC&orgSearch=&currentPage=1&perPage=40&brm=&instt=&svcType=&kwrdArray=&extsn=&coreDataNmArray=&pblonsipScopeCode=\"\n",
        "#]\n",
        "#file_path = \"daegu_namgu_public_data_all_pages.xlsx\"\n",
        "\n",
        "#  대전시 유성구 URL 목록 (활용많은순+40개씩)\n",
        "#urls = [\n",
        "#    \"https://www.data.go.kr/tcs/dss/selectDataSetList.do?dType=FILE&keyword=&operator=&detailKeyword=&publicDataPk=&recmSe=&detailText=&relatedKeyword=&commaNotInData=&commaAndData=&commaOrData=&must_not=&tabId=&dataSetCoreTf=&coreDataNm=&sort=reqCo&relRadio=&orgFullName=%EB%8C%80%EC%A0%84%EA%B4%91%EC%97%AD%EC%8B%9C+%EC%9C%A0%EC%84%B1%EA%B5%AC&orgFilter=%EB%8C%80%EC%A0%84%EA%B4%91%EC%97%AD%EC%8B%9C+%EC%9C%A0%EC%84%B1%EA%B5%AC&org=%EB%8C%80%EC%A0%84%EA%B4%91%EC%97%AD%EC%8B%9C+%EC%9C%A0%EC%84%B1%EA%B5%AC&orgSearch=&currentPage=1&perPage=40&brm=&instt=&svcType=&kwrdArray=&extsn=&coreDataNmArray=&pblonsipScopeCode=\",\n",
        "#    \"https://www.data.go.kr/tcs/dss/selectDataSetList.do?dType=FILE&keyword=&operator=&detailKeyword=&publicDataPk=&recmSe=&detailText=&relatedKeyword=&commaNotInData=&commaAndData=&commaOrData=&must_not=&tabId=&dataSetCoreTf=&coreDataNm=&sort=reqCo&relRadio=&orgFullName=%EB%8C%80%EC%A0%84%EA%B4%91%EC%97%AD%EC%8B%9C+%EC%9C%A0%EC%84%B1%EA%B5%AC&orgFilter=%EB%8C%80%EC%A0%84%EA%B4%91%EC%97%AD%EC%8B%9C+%EC%9C%A0%EC%84%B1%EA%B5%AC&org=%EB%8C%80%EC%A0%84%EA%B4%91%EC%97%AD%EC%8B%9C+%EC%9C%A0%EC%84%B1%EA%B5%AC&orgSearch=&currentPage=2&perPage=40&brm=&instt=&svcType=&kwrdArray=&extsn=&coreDataNmArray=&pblonsipScopeCode=\",\n",
        "#    \"https://www.data.go.kr/tcs/dss/selectDataSetList.do?dType=FILE&keyword=&operator=&detailKeyword=&publicDataPk=&recmSe=&detailText=&relatedKeyword=&commaNotInData=&commaAndData=&commaOrData=&must_not=&tabId=&dataSetCoreTf=&coreDataNm=&sort=reqCo&relRadio=&orgFullName=%EB%8C%80%EC%A0%84%EA%B4%91%EC%97%AD%EC%8B%9C+%EC%9C%A0%EC%84%B1%EA%B5%AC&orgFilter=%EB%8C%80%EC%A0%84%EA%B4%91%EC%97%AD%EC%8B%9C+%EC%9C%A0%EC%84%B1%EA%B5%AC&org=%EB%8C%80%EC%A0%84%EA%B4%91%EC%97%AD%EC%8B%9C+%EC%9C%A0%EC%84%B1%EA%B5%AC&orgSearch=&currentPage=3&perPage=40&brm=&instt=&svcType=&kwrdArray=&extsn=&coreDataNmArray=&pblonsipScopeCode=\"\n",
        "#]\n",
        "#file_path = \"daejeon_yesounggu_public_data_all_pages.xlsx\"\n",
        "\n",
        "#  부산시 중구 URL 목록 (활용많은순+40개씩)\n",
        "#urls = [\n",
        "#    \"https://www.data.go.kr/tcs/dss/selectDataSetList.do?dType=FILE&keyword=&operator=&detailKeyword=&publicDataPk=&recmSe=&detailText=&relatedKeyword=&commaNotInData=&commaAndData=&commaOrData=&must_not=&tabId=&dataSetCoreTf=&coreDataNm=&sort=reqCo&relRadio=&orgFullName=%EB%B6%80%EC%82%B0%EA%B4%91%EC%97%AD%EC%8B%9C+%EC%A4%91%EA%B5%AC&orgFilter=%EB%B6%80%EC%82%B0%EA%B4%91%EC%97%AD%EC%8B%9C+%EC%A4%91%EA%B5%AC&org=%EB%B6%80%EC%82%B0%EA%B4%91%EC%97%AD%EC%8B%9C+%EC%A4%91%EA%B5%AC&orgSearch=&currentPage=1&perPage=40&brm=&instt=&svcType=&kwrdArray=&extsn=&coreDataNmArray=&pblonsipScopeCode=\",\n",
        "#    \"https://www.data.go.kr/tcs/dss/selectDataSetList.do?dType=FILE&keyword=&operator=&detailKeyword=&publicDataPk=&recmSe=&detailText=&relatedKeyword=&commaNotInData=&commaAndData=&commaOrData=&must_not=&tabId=&dataSetCoreTf=&coreDataNm=&sort=reqCo&relRadio=&orgFullName=%EB%B6%80%EC%82%B0%EA%B4%91%EC%97%AD%EC%8B%9C+%EC%A4%91%EA%B5%AC&orgFilter=%EB%B6%80%EC%82%B0%EA%B4%91%EC%97%AD%EC%8B%9C+%EC%A4%91%EA%B5%AC&org=%EB%B6%80%EC%82%B0%EA%B4%91%EC%97%AD%EC%8B%9C+%EC%A4%91%EA%B5%AC&orgSearch=&currentPage=2&perPage=40&brm=&instt=&svcType=&kwrdArray=&extsn=&coreDataNmArray=&pblonsipScopeCode=\",\n",
        "#    \"https://www.data.go.kr/tcs/dss/selectDataSetList.do?dType=FILE&keyword=&operator=&detailKeyword=&publicDataPk=&recmSe=&detailText=&relatedKeyword=&commaNotInData=&commaAndData=&commaOrData=&must_not=&tabId=&dataSetCoreTf=&coreDataNm=&sort=reqCo&relRadio=&orgFullName=%EB%B6%80%EC%82%B0%EA%B4%91%EC%97%AD%EC%8B%9C+%EC%A4%91%EA%B5%AC&orgFilter=%EB%B6%80%EC%82%B0%EA%B4%91%EC%97%AD%EC%8B%9C+%EC%A4%91%EA%B5%AC&org=%EB%B6%80%EC%82%B0%EA%B4%91%EC%97%AD%EC%8B%9C+%EC%A4%91%EA%B5%AC&orgSearch=&currentPage=3&perPage=40&brm=&instt=&svcType=&kwrdArray=&extsn=&coreDataNmArray=&pblonsipScopeCode=\"\n",
        "#]\n",
        "#file_path = \"busan_junggu_public_data_all_pages.xlsx\"\n",
        "\n",
        "# 데이터 목록을 저장할 리스트 초기화\n",
        "data_list = []\n",
        "\n",
        "# 각 URL에 대해 데이터 추출\n",
        "for url in urls:\n",
        "    response = requests.get(url)\n",
        "    soup = BeautifulSoup(response.text, 'html.parser')\n",
        "\n",
        "    datasets = soup.select('div.result-list li')\n",
        "\n",
        "    for dataset in datasets:\n",
        "        title_element = dataset.select_one('.title')\n",
        "        #print(title_element)\n",
        "        description_element = dataset.select_one('.ellipsis')\n",
        "        #link_element = dataset.select_one('a')\n",
        "        link_element = dataset.select_one('dl > dt > a')\n",
        "        #print(link_element)\n",
        "        format_element = dataset.select('.tagset')\n",
        "\n",
        "        if title_element and description_element and link_element and format_element:\n",
        "            title = title_element.get_text(strip=True)\n",
        "            description = description_element.get_text(strip=True)\n",
        "            link = \"https://www.data.go.kr\" + link_element['href']\n",
        "            format = format_element[0].get_text(strip=True)\n",
        "            format2 = ''\n",
        "            if len(format_element) > 1:\n",
        "              format2 = format_element[1].get_text(strip=True)\n",
        "\n",
        "            data_list.append([title, description, format, format2, link])\n",
        "            #print(data_list)\n",
        "\n",
        "# 데이터프레임 생성\n",
        "df = pd.DataFrame(data_list, columns=['데이터 제목', '설명', '제공 형태1', '제공 형태2', '링크'])\n",
        "\n",
        "# 엑셀 파일로 저장\n",
        "df.to_excel(file_path, index=False)\n",
        "\n",
        "print(f\"데이터가 '{file_path}'로 저장되었습니다.\")"
      ]
    }
  ]
}